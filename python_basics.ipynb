{
 "cells": [
  {
   "cell_type": "markdown",
   "metadata": {},
   "source": [
    "Importing packages"
   ]
  },
  {
   "cell_type": "code",
   "execution_count": null,
   "metadata": {
    "collapsed": true
   },
   "outputs": [],
   "source": [
    "#for pretty much all numerical needs\n",
    "import numpy as np\n",
    "\n",
    "#for pretty much all plotting needs\n",
    "import matplotlib.pyplot as plt\n",
    "\n",
    "#for pretty much all data needs\n",
    "import pandas as pd\n"
   ]
  },
  {
   "cell_type": "markdown",
   "metadata": {},
   "source": [
    "Lists and loops"
   ]
  },
  {
   "cell_type": "code",
   "execution_count": null,
   "metadata": {
    "collapsed": true
   },
   "outputs": [],
   "source": [
    "#define a new list\n",
    "a = [1,\"test\", 3.14]\n",
    "\n",
    "#calling elements of a (and printing them)\n",
    "print(a[0])\n",
    "print(a[-1])\n",
    "print(a[-3])\n",
    "\n",
    "#looping with lists, the usual for loop\n",
    "for i in a:\n",
    "    print(i)\n",
    "\n",
    "#you can append objects to lists\n",
    "a.append([1,2,4.12])\n",
    "\n",
    "#you can print whole lists\n",
    "print(a)\n",
    "print(len(a))\n",
    "\n",
    "#range(N) is a useful list \n",
    "for i in range(5):\n",
    "    print(i+3)\n"
   ]
  },
  {
   "cell_type": "markdown",
   "metadata": {},
   "source": [
    "Functions"
   ]
  },
  {
   "cell_type": "code",
   "execution_count": null,
   "metadata": {
    "collapsed": true
   },
   "outputs": [],
   "source": [
    "#define a function using def\n",
    "def function(x):\n",
    "    new_val = x**2\n",
    "    return new_val\n",
    "\n",
    "#try out the function \n",
    "print(function(1))\n",
    "\n",
    "print(function(3.14))\n",
    "\n",
    "print(function(\"test\"))\n",
    "\n",
    "#lambda functions are quick, ``in place'' ways to define functions\n",
    "lam_function = lambda x: x**2\n",
    "\n",
    "print(lam_function(1))\n",
    "\n",
    "print(lam_function(3.14))\n"
   ]
  },
  {
   "cell_type": "markdown",
   "metadata": {},
   "source": [
    "If/else, and while"
   ]
  },
  {
   "cell_type": "code",
   "execution_count": null,
   "metadata": {
    "collapsed": true
   },
   "outputs": [],
   "source": [
    "#define a function to make running the if/else statement easier\n",
    "def fun(x):\n",
    "    if x:\n",
    "        print(\"This is true!\")\n",
    "    else:\n",
    "        print(\"Better luck next time...\")\n",
    "    return\n",
    "\n",
    "#try running fun with a false, then true, statement\n",
    "cond = False\n",
    "fun(cond)\n",
    "fun(1)\n",
    "\n",
    "#a simple while loop\n",
    "i = 0\n",
    "\n",
    "while(i<10):\n",
    "    i = 2*i+1\n",
    "    print(i)"
   ]
  },
  {
   "cell_type": "markdown",
   "metadata": {},
   "source": [
    "Dictionaries"
   ]
  },
  {
   "cell_type": "code",
   "execution_count": null,
   "metadata": {
    "collapsed": true
   },
   "outputs": [],
   "source": [
    "#define a new dictionary \n",
    "test_dict = {\"entry\":\"out\", \"out\":1,1.0:\"this one\"}\n",
    "\n",
    "#see what the keys are \n",
    "print(test_dict.keys())\n",
    "\n",
    "#try calling the elements\n",
    "print(test_dict[\"out\"])\n",
    "print(test_dict[1])\n",
    "\n",
    "#define a blank dictionary\n",
    "blank_dict = {}\n",
    "\n",
    "#add elements on the fly\n",
    "blank_dict[1] = \"out\"\n",
    "blank_dict[\"out\"] = \"this one\"\n",
    "blank_dict[\"entry\"] = 1\n",
    "\n",
    "print(blank_dict)"
   ]
  },
  {
   "cell_type": "markdown",
   "metadata": {},
   "source": [
    "Numpy"
   ]
  },
  {
   "cell_type": "code",
   "execution_count": null,
   "metadata": {
    "collapsed": true
   },
   "outputs": [],
   "source": [
    "#define a few arrays\n",
    "spaced_out = np.linspace(-1,10,14)\n",
    "ranged_out = np.arange(14)\n",
    "random_array = np.random.rand(3,5)\n",
    "\n",
    "print(spaced_out)\n",
    "print(ranged_out)\n",
    "print(random_array)\n",
    "\n",
    "#adding arrays \n",
    "summed_out = spaced_out + ranged_out\n",
    "print(summed_out)\n",
    "\n",
    "#some slicing\n",
    "print(random_array[:,2])\n",
    "print(random_array[2,:])\n",
    "\n",
    "#index slicing\n",
    "indices = [1,3,4]\n",
    "print(random_array[:,indices])\n",
    "\n",
    "bools = [True, False, True]\n",
    "print(random_array[bools,:])"
   ]
  },
  {
   "cell_type": "markdown",
   "metadata": {},
   "source": [
    "Plotting"
   ]
  },
  {
   "cell_type": "code",
   "execution_count": null,
   "metadata": {
    "collapsed": true
   },
   "outputs": [],
   "source": [
    "#generate some data\n",
    "x = np.linspace(-1,np.pi,100)\n",
    "y = np.sin(2.1*x)\n",
    "\n",
    "plt.plot(x,y,c=\"r\")\n",
    "plt.xlabel(\"x-coords\")\n",
    "plt.ylabel(\"sin values\")\n",
    "plt.show()\n",
    "\n",
    "#generate alternate data\n",
    "z = np.cos(2.1*x)\n",
    "\n",
    "plt.scatter(y,z, c = \"g\", marker = \"x\")\n",
    "plt.title(\"Some points on a circle\")\n",
    "plt.show()"
   ]
  }
 ],
 "metadata": {
  "kernelspec": {
   "display_name": "Python [default]",
   "language": "python",
   "name": "python3"
  },
  "language_info": {
   "codemirror_mode": {
    "name": "ipython",
    "version": 3
   },
   "file_extension": ".py",
   "mimetype": "text/x-python",
   "name": "python",
   "nbconvert_exporter": "python",
   "pygments_lexer": "ipython3",
   "version": "3.5.2"
  }
 },
 "nbformat": 4,
 "nbformat_minor": 1
}
