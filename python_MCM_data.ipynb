{
 "cells": [
  {
   "cell_type": "markdown",
   "metadata": {
    "collapsed": true
   },
   "source": [
    "Import packages"
   ]
  },
  {
   "cell_type": "code",
   "execution_count": null,
   "metadata": {
    "collapsed": true
   },
   "outputs": [],
   "source": [
    "import pandas as pd\n",
    "import numpy as np\n",
    "import matplotlib.pyplot as plt"
   ]
  },
  {
   "cell_type": "markdown",
   "metadata": {},
   "source": [
    "Read xlsx data"
   ]
  },
  {
   "cell_type": "code",
   "execution_count": null,
   "metadata": {
    "collapsed": true
   },
   "outputs": [],
   "source": [
    "#set up strings with directory/file names\n",
    "file_dir = \"C:/Users/hamilton.w/Documents/MCM_data/\"\n",
    "data_name = \"MCM_NFLIS_data.xlsx\"\n",
    "\n",
    "#read the xlsx, and convert to a pandas dataframe\n",
    "#some versions of pandas requires the optional argument ``sheet_name'' instead of ``sheetname''\n",
    "df = pd.read_excel(\"{}{}\".format(file_dir,data_name), sheetname = \"Data\")"
   ]
  },
  {
   "cell_type": "markdown",
   "metadata": {},
   "source": [
    "Initial summary of what's in the spreadsheet"
   ]
  },
  {
   "cell_type": "code",
   "execution_count": null,
   "metadata": {
    "collapsed": true
   },
   "outputs": [],
   "source": [
    "#print the column names\n",
    "print(df.columns)\n",
    "\n",
    "#summarize the entries in each column\n",
    "for label in df.columns:\n",
    "\tprint(label)\n",
    "\tprint(df[label].unique())"
   ]
  },
  {
   "cell_type": "markdown",
   "metadata": {},
   "source": [
    "Summary of the entries, sorted by drug reports"
   ]
  },
  {
   "cell_type": "code",
   "execution_count": null,
   "metadata": {
    "collapsed": true
   },
   "outputs": [],
   "source": [
    "#sort all entries by number of reported cases in state\n",
    "sort_order_states = np.argsort(df.iloc[:,-3].values)\n",
    "df.iloc[sort_order_states,[0,1,2,6,7,8,9]][:100]"
   ]
  },
  {
   "cell_type": "markdown",
   "metadata": {},
   "source": [
    "Same summary, just order reversed"
   ]
  },
  {
   "cell_type": "code",
   "execution_count": null,
   "metadata": {
    "collapsed": true
   },
   "outputs": [],
   "source": [
    "#reverse sort order\n",
    "sort_order_states = sort_order_states[::-1]\n",
    "df.iloc[sort_order_states,[0,1,2,6,7,8,9]][:50]"
   ]
  },
  {
   "cell_type": "markdown",
   "metadata": {},
   "source": [
    "Isolate a dataframe with the state drug reports"
   ]
  },
  {
   "cell_type": "code",
   "execution_count": null,
   "metadata": {
    "collapsed": true
   },
   "outputs": [],
   "source": [
    "#sort state drug reports\n",
    "df_state_totals = df.iloc[:,[0,1,3,9]]\n",
    "df_state_totals = df_state_totals.drop_duplicates()\n",
    "df_state_totals.sort_values(\"TotalDrugReportsState\")[::-1]"
   ]
  },
  {
   "cell_type": "markdown",
   "metadata": {},
   "source": [
    "Isolate a dataframe with the county drug reports"
   ]
  },
  {
   "cell_type": "code",
   "execution_count": null,
   "metadata": {
    "collapsed": true
   },
   "outputs": [],
   "source": [
    "#sort county drug reports\n",
    "df_county_totals = df.iloc[:,[0,1,2,4,8,9]]\n",
    "df_county_totals = df_county_totals.drop_duplicates()\n",
    "df_county_totals.sort_values(\"TotalDrugReportsCounty\")[::-1]"
   ]
  },
  {
   "cell_type": "markdown",
   "metadata": {},
   "source": [
    "Isolate the heroin and fentanyl data"
   ]
  },
  {
   "cell_type": "code",
   "execution_count": null,
   "metadata": {
    "collapsed": true
   },
   "outputs": [],
   "source": [
    "#get heroin data \n",
    "df_heroin = df[df[\"SubstanceName\"] == \"Heroin\"]\n",
    "df_heroin = df_heroin.iloc[:,[0,1,3,7]]\n",
    "\n",
    "#get fentanyl data\n",
    "df_fentanyl = df[df[\"SubstanceName\"] == \"Fentanyl\"]\n",
    "df_fentanyl = df_fentanyl.iloc[:,[0,1,3,7]]"
   ]
  },
  {
   "cell_type": "markdown",
   "metadata": {},
   "source": [
    "Get totals by year"
   ]
  },
  {
   "cell_type": "code",
   "execution_count": null,
   "metadata": {
    "collapsed": true
   },
   "outputs": [],
   "source": [
    "#get totals by year \n",
    "years = df[\"YYYY\"].unique()\n",
    "heroin_totals = np.zeros(len(years))\n",
    "fentanyl_totals = np.zeros(len(years))\n",
    "\n",
    "for i in range(len(years)):\n",
    "\ty = years[i]\n",
    "\theroin_totals[i] = sum(df_heroin[df_heroin[\"YYYY\"]==y].iloc[:,-1].values)\n",
    "\t\n",
    "\tfentanyl_totals[i] = sum(df_fentanyl[df_fentanyl[\"YYYY\"]==y].iloc[:,-1].values)"
   ]
  },
  {
   "cell_type": "markdown",
   "metadata": {},
   "source": [
    "Plot the drug report rates"
   ]
  },
  {
   "cell_type": "code",
   "execution_count": null,
   "metadata": {
    "collapsed": true
   },
   "outputs": [],
   "source": [
    "plt.plot(years,heroin_totals, c = \"y\")\n",
    "plt.plot(years,fentanyl_totals, c = \"b\")\n",
    "\n",
    "plt.ylabel(\"Total drug reports\")\n",
    "plt.xlabel(\"Year\")\n",
    "plt.show()"
   ]
  },
  {
   "cell_type": "markdown",
   "metadata": {},
   "source": [
    "Read in the meta data for 2016"
   ]
  },
  {
   "cell_type": "code",
   "execution_count": null,
   "metadata": {
    "collapsed": true
   },
   "outputs": [],
   "source": [
    "#read meta data \n",
    "se_data_name = \"ACS_16_5YR_DP02_with_ann.csv\"\n",
    "se_metadata_name = \"ACS_16_5YR_DP02_metadata.csv\"\n",
    "\n",
    "df_se = pd.read_csv(\"{}{}\".format(file_dir,se_data_name))\n",
    "df_se_meta = pd.read_csv(\"{}{}\".format(file_dir,se_metadata_name))"
   ]
  },
  {
   "cell_type": "markdown",
   "metadata": {},
   "source": [
    "See what's in each csv"
   ]
  },
  {
   "cell_type": "code",
   "execution_count": null,
   "metadata": {
    "collapsed": true
   },
   "outputs": [],
   "source": [
    "df_se.head()"
   ]
  },
  {
   "cell_type": "code",
   "execution_count": null,
   "metadata": {
    "collapsed": true
   },
   "outputs": [],
   "source": [
    "df_se_meta.head()"
   ]
  },
  {
   "cell_type": "markdown",
   "metadata": {},
   "source": [
    "Isolate the dictionary for numbers of households"
   ]
  },
  {
   "cell_type": "code",
   "execution_count": null,
   "metadata": {
    "collapsed": true
   },
   "outputs": [],
   "source": [
    "#isolate the house dictionary\n",
    "df_se.iloc[:,[1,3]]\n",
    "\n",
    "#check that the sizes match up \n",
    "print(len(df_se[\"GEO.id2\"].unique()))\n",
    "print(len(df[\"FIPS_Combined\"].unique()))"
   ]
  },
  {
   "cell_type": "markdown",
   "metadata": {},
   "source": [
    "Sizes don't match up... where?"
   ]
  },
  {
   "cell_type": "code",
   "execution_count": null,
   "metadata": {
    "collapsed": true
   },
   "outputs": [],
   "source": [
    "#convert the geo_ids to ints\n",
    "orig_data_locs = df[\"FIPS_Combined\"].unique()\n",
    "unique_meta_locs = df_se[\"GEO.id2\"].iloc[1:].unique().astype(int)\n",
    "\n",
    "#figure out which counties are different \n",
    "print(list(set(orig_data_locs) - set(unique_meta_locs)))\n",
    "\n",
    "#double check \n",
    "print(sum(df_se[\"GEO.id2\"]==\"51515\"))\n",
    "\n",
    "#which city?\n",
    "print(df[df[\"FIPS_Combined\"]==51515])"
   ]
  },
  {
   "cell_type": "markdown",
   "metadata": {},
   "source": [
    "Let's normalize our original drug reports by numbers of households"
   ]
  },
  {
   "cell_type": "code",
   "execution_count": null,
   "metadata": {
    "collapsed": true
   },
   "outputs": [],
   "source": [
    "#recover state total households\n",
    "state_FIPS_dict = {}\n",
    "state_total_households = {}\n",
    "\n",
    "#set up what we need for the state households totals\n",
    "for s in df[\"State\"].unique():\n",
    "\t#get the state FIPS \n",
    "\tstate_FIPS = df[df[\"State\"]==s][\"FIPS_State\"].iloc[0]\n",
    "\t\n",
    "\tstate_FIPS_dict[s] = state_FIPS\n",
    "\tstate_total_households[state_FIPS] = 0.\n",
    "\n",
    "#actually compute the estimated state total households\n",
    "for i in range(1,len(df_se)):\n",
    "\tgeo_id = df_se[\"GEO.id2\"].iloc[i]\n",
    "\tnum_households = df_se[\"HC01_VC03\"].iloc[i]\n",
    "\t\n",
    "\tstate_total_households[int(geo_id[:2])] += int(num_households)\n",
    "\n",
    "print(state_FIPS_dict)\n",
    "print(state_total_households)"
   ]
  },
  {
   "cell_type": "markdown",
   "metadata": {},
   "source": [
    "Make a copy of the original dataframe"
   ]
  },
  {
   "cell_type": "code",
   "execution_count": null,
   "metadata": {
    "collapsed": true
   },
   "outputs": [],
   "source": [
    "#copy the df\n",
    "normed_df = df.copy()"
   ]
  },
  {
   "cell_type": "markdown",
   "metadata": {},
   "source": [
    "Convert the state totals in the copied dataframe"
   ]
  },
  {
   "cell_type": "code",
   "execution_count": null,
   "metadata": {
    "collapsed": true
   },
   "outputs": [],
   "source": [
    "#convert the state totals \n",
    "for s in df[\"State\"].unique():\n",
    "\ts_FIPS = state_FIPS_dict[s]\n",
    "\ttransform_func = lambda x: x/state_total_households[s_FIPS]\n",
    "\t\n",
    "\tnormed_df.loc[normed_df[\"State\"]==s,\"TotalDrugReportsState\"] = normed_df[normed_df[\"State\"]==s][\"TotalDrugReportsState\"].apply(transform_func)"
   ]
  },
  {
   "cell_type": "markdown",
   "metadata": {},
   "source": [
    "Convert the county totals"
   ]
  },
  {
   "cell_type": "code",
   "execution_count": null,
   "metadata": {
    "collapsed": true
   },
   "outputs": [],
   "source": [
    "#convert the county totals \n",
    "for c in unique_meta_locs:\n",
    "\tcounty_total = df_se[df_se[\"GEO.id2\"]==str(c)][\"HC01_VC03\"].values\n",
    "\ttransform_func = lambda x: x/float(county_total)\n",
    "\t\n",
    "\tnormed_df.loc[normed_df[\"FIPS_Combined\"]==c,\"TotalDrugReportsCounty\"] = normed_df[normed_df[\"FIPS_Combined\"]==c][\"TotalDrugReportsCounty\"].apply(transform_func)"
   ]
  },
  {
   "cell_type": "markdown",
   "metadata": {},
   "source": [
    "Cut out the county without the relevant data"
   ]
  },
  {
   "cell_type": "code",
   "execution_count": null,
   "metadata": {
    "collapsed": true
   },
   "outputs": [],
   "source": [
    "#remove 51515\n",
    "#get indices of 51515 entries \n",
    "drop_indices = np.arange(len(normed_df))[normed_df[\"FIPS_Combined\"]==51515]\n",
    "\n",
    "normed_df = normed_df.drop(drop_indices)"
   ]
  },
  {
   "cell_type": "markdown",
   "metadata": {},
   "source": [
    "Repeat the same analysis as before, with the normalized data"
   ]
  },
  {
   "cell_type": "code",
   "execution_count": null,
   "metadata": {
    "collapsed": true
   },
   "outputs": [],
   "source": [
    "#sort state drug reports\n",
    "df_state_totals = normed_df.iloc[:,[0,1,3,9]]\n",
    "df_state_totals = df_state_totals.drop_duplicates()\n",
    "df_state_totals.sort_values(\"TotalDrugReportsState\")[::-1]"
   ]
  },
  {
   "cell_type": "code",
   "execution_count": null,
   "metadata": {
    "collapsed": true
   },
   "outputs": [],
   "source": [
    "#sort county drug reports\n",
    "df_county_totals = normed_df.iloc[:,[0,1,2,8]]\n",
    "df_county_totals = df_county_totals.drop_duplicates()\n",
    "df_county_totals.sort_values(\"TotalDrugReportsCounty\")[::-1]"
   ]
  },
  {
   "cell_type": "markdown",
   "metadata": {},
   "source": [
    "What are the households and populations for the new top counties?"
   ]
  },
  {
   "cell_type": "code",
   "execution_count": null,
   "metadata": {
    "collapsed": true
   },
   "outputs": [],
   "source": [
    "#manually write out the pairs we want to look at\n",
    "state_county_pairs = [(\"VA\",\"NELSON\"),(\"KY\",\"BELL\"),(\"OH\",\"HAMILTON\"),(\"KY\",\"PERRY\")]\n",
    "\n",
    "#for each state and county pair\n",
    "for sc_pair in state_county_pairs:\n",
    "    #save the local dataframe\n",
    "    temp_df = df[(df[\"State\"]==sc_pair[0])&(df[\"COUNTY\"]==sc_pair[1])]\n",
    "    \n",
    "    #[0,1,2,8,9] are the year, state, county, total county reports, total state reports\n",
    "    print(temp_df.iloc[:,[0,1,2,8,9]].drop_duplicates())\n",
    "    \n",
    "    #print the 2016 housing data for each state, county pair \n",
    "    temp_FIPS = temp_df[\"FIPS_Combined\"].iloc[0]\n",
    "    print(\"The number of households is:\")\n",
    "    print(float(df_se[df_se[\"GEO.id2\"] == str(temp_FIPS)][\"HC01_VC03\"]))\n"
   ]
  }
 ],
 "metadata": {
  "anaconda-cloud": {},
  "kernelspec": {
   "display_name": "Python [default]",
   "language": "python",
   "name": "python3"
  },
  "language_info": {
   "codemirror_mode": {
    "name": "ipython",
    "version": 3
   },
   "file_extension": ".py",
   "mimetype": "text/x-python",
   "name": "python",
   "nbconvert_exporter": "python",
   "pygments_lexer": "ipython3",
   "version": "3.5.2"
  }
 },
 "nbformat": 4,
 "nbformat_minor": 1
}
